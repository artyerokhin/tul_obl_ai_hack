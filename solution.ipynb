{
 "cells": [
  {
   "cell_type": "code",
   "execution_count": 1,
   "metadata": {
    "id": "6cjPwQjNfkwA"
   },
   "outputs": [],
   "source": [
    "import pandas as pd\n",
    "import numpy as np\n",
    "\n",
    "import seaborn as sns\n",
    "import matplotlib.pyplot as plt\n",
    "%matplotlib inline"
   ]
  },
  {
   "cell_type": "code",
   "execution_count": 2,
   "metadata": {
    "id": "Sm8oQ6EWgIBf"
   },
   "outputs": [],
   "source": [
    "# предварительно сохраненный в виде .gz исходный train.csv\n",
    "train = pd.read_csv(\n",
    "    'train_dataset_train.csv.gz',\n",
    "    sep=',')\n",
    "\n",
    "test = pd.read_csv(\n",
    "    'test_dataset_test.csv',\n",
    "    sep=';')"
   ]
  },
  {
   "cell_type": "code",
   "execution_count": 3,
   "metadata": {
    "colab": {
     "base_uri": "https://localhost:8080/",
     "height": 176
    },
    "executionInfo": {
     "elapsed": 10,
     "status": "ok",
     "timestamp": 1661020026241,
     "user": {
      "displayName": "Артем Ерохин",
      "userId": "12438776831175910958"
     },
     "user_tz": -180
    },
    "id": "aLICYXl6gbQ1",
    "outputId": "33de314c-5bbf-46a3-9d64-b2dc9053a7e3"
   },
   "outputs": [
    {
     "data": {
      "text/html": [
       "<div>\n",
       "<style scoped>\n",
       "    .dataframe tbody tr th:only-of-type {\n",
       "        vertical-align: middle;\n",
       "    }\n",
       "\n",
       "    .dataframe tbody tr th {\n",
       "        vertical-align: top;\n",
       "    }\n",
       "\n",
       "    .dataframe thead th {\n",
       "        text-align: right;\n",
       "    }\n",
       "</style>\n",
       "<table border=\"1\" class=\"dataframe\">\n",
       "  <thead>\n",
       "    <tr style=\"text-align: right;\">\n",
       "      <th></th>\n",
       "      <th>PATIENT_SEX</th>\n",
       "      <th>MKB_CODE</th>\n",
       "      <th>ADRES</th>\n",
       "      <th>VISIT_MONTH_YEAR</th>\n",
       "      <th>AGE_CATEGORY</th>\n",
       "      <th>PATIENT_ID_COUNT</th>\n",
       "    </tr>\n",
       "  </thead>\n",
       "  <tbody>\n",
       "    <tr>\n",
       "      <th>0</th>\n",
       "      <td>0</td>\n",
       "      <td>A00.0</td>\n",
       "      <td>Гурьевск</td>\n",
       "      <td>8.21</td>\n",
       "      <td>young</td>\n",
       "      <td>1</td>\n",
       "    </tr>\n",
       "    <tr>\n",
       "      <th>1</th>\n",
       "      <td>0</td>\n",
       "      <td>A00.0</td>\n",
       "      <td>Калининград</td>\n",
       "      <td>3.20</td>\n",
       "      <td>children</td>\n",
       "      <td>1</td>\n",
       "    </tr>\n",
       "  </tbody>\n",
       "</table>\n",
       "</div>"
      ],
      "text/plain": [
       "   PATIENT_SEX MKB_CODE        ADRES  VISIT_MONTH_YEAR AGE_CATEGORY  \\\n",
       "0            0    A00.0     Гурьевск              8.21        young   \n",
       "1            0    A00.0  Калининград              3.20     children   \n",
       "\n",
       "   PATIENT_ID_COUNT  \n",
       "0                 1  \n",
       "1                 1  "
      ]
     },
     "execution_count": 3,
     "metadata": {},
     "output_type": "execute_result"
    }
   ],
   "source": [
    "train[:2]"
   ]
  },
  {
   "cell_type": "code",
   "execution_count": 4,
   "metadata": {
    "colab": {
     "base_uri": "https://localhost:8080/"
    },
    "executionInfo": {
     "elapsed": 267,
     "status": "ok",
     "timestamp": 1661020174140,
     "user": {
      "displayName": "Артем Ерохин",
      "userId": "12438776831175910958"
     },
     "user_tz": -180
    },
    "id": "nv6ORvcPhGWz",
    "outputId": "48484572-d093-4a4e-f6f1-ff60c3a34138"
   },
   "outputs": [
    {
     "data": {
      "text/plain": [
       "Index(['PATIENT_SEX', 'MKB_CODE', 'ADRES', 'VISIT_MONTH_YEAR', 'AGE_CATEGORY',\n",
       "       'PATIENT_ID_COUNT'],\n",
       "      dtype='object')"
      ]
     },
     "execution_count": 4,
     "metadata": {},
     "output_type": "execute_result"
    }
   ],
   "source": [
    "train.columns"
   ]
  },
  {
   "cell_type": "code",
   "execution_count": 5,
   "metadata": {
    "colab": {
     "base_uri": "https://localhost:8080/",
     "height": 298
    },
    "executionInfo": {
     "elapsed": 5571,
     "status": "ok",
     "timestamp": 1661020317208,
     "user": {
      "displayName": "Артем Ерохин",
      "userId": "12438776831175910958"
     },
     "user_tz": -180
    },
    "id": "h21f3jvuhDSP",
    "outputId": "9605a508-39b2-4331-f6c6-c79bd260abe5"
   },
   "outputs": [
    {
     "data": {
      "text/plain": [
       "<AxesSubplot:xlabel='VISIT_MONTH_YEAR', ylabel='Density'>"
      ]
     },
     "execution_count": 5,
     "metadata": {},
     "output_type": "execute_result"
    },
    {
     "data": {
      "image/png": "[encoded data removed]",
      "text/plain": [
       "<Figure size 432x288 with 1 Axes>"
      ]
     },
     "metadata": {
      "needs_background": "light"
     },
     "output_type": "display_data"
    }
   ],
   "source": [
    "sns.kdeplot(train.groupby(by=['PATIENT_SEX', 'MKB_CODE', 'ADRES', 'AGE_CATEGORY']\n",
    "              )['VISIT_MONTH_YEAR'].count())"
   ]
  },
  {
   "cell_type": "code",
   "execution_count": 6,
   "metadata": {
    "id": "3MUWKSm3hucg"
   },
   "outputs": [],
   "source": [
    "from sklearn.metrics import r2_score"
   ]
  },
  {
   "cell_type": "code",
   "execution_count": 7,
   "metadata": {
    "id": "fuEY1LKaiIwH"
   },
   "outputs": [],
   "source": [
    "mean_df = (train[[i.split('.')[1] != '21' for i in train['VISIT_MONTH_YEAR'].astype(str)]]\n",
    " .groupby(by=['PATIENT_SEX', 'MKB_CODE', 'ADRES', 'AGE_CATEGORY'])\n",
    " .agg(mean_patients=('PATIENT_ID_COUNT', 'mean'))\n",
    " .reset_index())"
   ]
  },
  {
   "cell_type": "code",
   "execution_count": 8,
   "metadata": {
    "id": "o-nj_OAJoTmY"
   },
   "outputs": [],
   "source": [
    "last_val = (train[train['VISIT_MONTH_YEAR'] < 4.21]\n",
    "            .sort_values(by='VISIT_MONTH_YEAR', ascending=True)\n",
    "            .drop_duplicates(\n",
    "                subset=['PATIENT_SEX', 'MKB_CODE', 'ADRES', 'AGE_CATEGORY'],\n",
    "                keep='last')\n",
    "            .rename(columns={'PATIENT_ID_COUNT': 'mean_patients'})\n",
    "            )\n",
    "\n",
    "last_val = (train[train['VISIT_MONTH_YEAR'] == 3.21]\n",
    "            .rename(columns={'PATIENT_ID_COUNT': 'mean_patients'})\n",
    "            )"
   ]
  },
  {
   "cell_type": "code",
   "execution_count": 9,
   "metadata": {},
   "outputs": [],
   "source": [
    "# костыли обработки месяца для графика загруженности\n",
    "train['visit_year_month'] = [float('{}.{}'.format(i.split('.')[1], i.split('.')[0])) \n",
    "for i in train['VISIT_MONTH_YEAR'].astype(str)]\n",
    "\n",
    "train['visit_year_month'] = [i + 18 if i < 10 else i for i in train['visit_year_month']]"
   ]
  },
  {
   "cell_type": "code",
   "execution_count": 10,
   "metadata": {},
   "outputs": [
    {
     "data": {
      "image/png": "[encoded data removed]",
      "text/plain": [
       "<Figure size 432x288 with 1 Axes>"
      ]
     },
     "metadata": {
      "needs_background": "light"
     },
     "output_type": "display_data"
    }
   ],
   "source": [
    "plt.title('График загруженности пациентами по месяцам')\n",
    "plt.plot(train.groupby(['visit_year_month'])['PATIENT_ID_COUNT'].sum())\n",
    "plt.xlabel('Год/месяц')\n",
    "plt.xlabel('Число пациентов');"
   ]
  },
  {
   "cell_type": "markdown",
   "metadata": {},
   "source": [
    "# Идея\n",
    "\n",
    "Кажется, что для месяца, который мы предсказываем, можно использовать множитель увеличения месяк к месяцу (в 21м году такой подход работает, как видим ниже)"
   ]
  },
  {
   "cell_type": "code",
   "execution_count": 11,
   "metadata": {},
   "outputs": [
    {
     "data": {
      "text/plain": [
       "0.8912246376349479"
      ]
     },
     "execution_count": 11,
     "metadata": {},
     "output_type": "execute_result"
    }
   ],
   "source": [
    "# исходный R2\n",
    "r2_score(train[train['VISIT_MONTH_YEAR']==4.21]['PATIENT_ID_COUNT'], \n",
    "         train[train['VISIT_MONTH_YEAR']==4.21].merge(\n",
    "             last_val[['PATIENT_SEX', 'MKB_CODE', 'ADRES', 'AGE_CATEGORY','mean_patients']], \n",
    "             how='left').fillna(0)['mean_patients'])"
   ]
  },
  {
   "cell_type": "code",
   "execution_count": 12,
   "metadata": {
    "colab": {
     "base_uri": "https://localhost:8080/"
    },
    "executionInfo": {
     "elapsed": 292,
     "status": "ok",
     "timestamp": 1661022345312,
     "user": {
      "displayName": "Артем Ерохин",
      "userId": "12438776831175910958"
     },
     "user_tz": -180
    },
    "id": "rqRscyuKoU8j",
    "outputId": "699fff61-374b-44dc-f0de-e84f8269906e"
   },
   "outputs": [
    {
     "data": {
      "text/plain": [
       "0.9267111814618452"
      ]
     },
     "execution_count": 12,
     "metadata": {},
     "output_type": "execute_result"
    }
   ],
   "source": [
    "# R2 с множителем\n",
    "r2_score(train[train['VISIT_MONTH_YEAR']==4.21]['PATIENT_ID_COUNT'], \n",
    "         train[train['VISIT_MONTH_YEAR']==4.21].merge(\n",
    "             last_val[['PATIENT_SEX', 'MKB_CODE', 'ADRES', 'AGE_CATEGORY','mean_patients']], \n",
    "             how='left').fillna(0)['mean_patients'] * 1.3)"
   ]
  },
  {
   "cell_type": "code",
   "execution_count": 13,
   "metadata": {
    "id": "zj3OcD3CppVd"
   },
   "outputs": [],
   "source": [
    "sample = pd.read_csv(\n",
    "    'sample_solution.csv',\n",
    "    sep=';')"
   ]
  },
  {
   "cell_type": "code",
   "execution_count": 14,
   "metadata": {
    "id": "2IwtWVDpgc5N"
   },
   "outputs": [],
   "source": [
    "march_val = train[train['VISIT_MONTH_YEAR'] == 3.22]"
   ]
  },
  {
   "cell_type": "code",
   "execution_count": 15,
   "metadata": {
    "id": "3PE3Pl9wqQlt"
   },
   "outputs": [],
   "source": [
    "res = (test\n",
    " .merge(\n",
    "     march_val[['PATIENT_SEX', 'MKB_CODE', 'ADRES', 'AGE_CATEGORY', 'PATIENT_ID_COUNT']], \n",
    "     how='left')\n",
    " .fillna(0))\n",
    "\n",
    "res['PATIENT_ID_COUNT'] = res['PATIENT_ID_COUNT'] * 1.3"
   ]
  },
  {
   "cell_type": "code",
   "execution_count": 16,
   "metadata": {
    "id": "OjsV9_feqyJY"
   },
   "outputs": [],
   "source": [
    "res['PATIENT_ID_COUNT'] = res['PATIENT_ID_COUNT'].astype(int)\n",
    "res['VISIT_MONTH_YEAR'] = '04.22'"
   ]
  },
  {
   "cell_type": "code",
   "execution_count": 17,
   "metadata": {
    "id": "qdfJWxqVqter"
   },
   "outputs": [],
   "source": [
    "res.to_csv('baseline_multiply.csv', \n",
    "           index=False,\n",
    "           sep=';')"
   ]
  },
  {
   "cell_type": "code",
   "execution_count": 18,
   "metadata": {
    "colab": {
     "base_uri": "https://localhost:8080/"
    },
    "executionInfo": {
     "elapsed": 275,
     "status": "ok",
     "timestamp": 1661023356049,
     "user": {
      "displayName": "Артем Ерохин",
      "userId": "12438776831175910958"
     },
     "user_tz": -180
    },
    "id": "R_WV03QStN9S",
    "outputId": "2d10dc0a-a830-4500-b4d6-ad307c2c311d"
   },
   "outputs": [
    {
     "data": {
      "text/plain": [
       "(39373, 39373)"
      ]
     },
     "execution_count": 18,
     "metadata": {},
     "output_type": "execute_result"
    }
   ],
   "source": [
    "len(res), len(sample)"
   ]
  },
  {
   "cell_type": "code",
   "execution_count": null,
   "metadata": {},
   "outputs": [],
   "source": []
  }
 ],
 "metadata": {
  "colab": {
   "authorship_tag": "ABX9TyO2JrWLKRQMcPYDFmwZFQaw",
   "collapsed_sections": [],
   "name": "solution.ipynb",
   "provenance": []
  },
  "kernelspec": {
   "display_name": "Python 3 (ipykernel)",
   "language": "python",
   "name": "python3"
  },
  "language_info": {
   "codemirror_mode": {
    "name": "ipython",
    "version": 3
   },
   "file_extension": ".py",
   "mimetype": "text/x-python",
   "name": "python",
   "nbconvert_exporter": "python",
   "pygments_lexer": "ipython3",
   "version": "3.8.11"
  }
 },
 "nbformat": 4,
 "nbformat_minor": 1
}
